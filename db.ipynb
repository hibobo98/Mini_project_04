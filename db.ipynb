{
 "cells": [
  {
   "attachments": {},
   "cell_type": "markdown",
   "metadata": {},
   "source": [
    "# 라이브러리 확인"
   ]
  },
  {
   "cell_type": "code",
   "execution_count": 1,
   "metadata": {},
   "outputs": [
    {
     "name": "stdout",
     "output_type": "stream",
     "text": [
      "2.6.0\n",
      "3.39.3\n"
     ]
    }
   ],
   "source": [
    "# 라이브러리 불러오기\n",
    "# sqlite3 라이브러리 버전\n",
    "# SQLite(DB엔진) 버전\n",
    "import sqlite3\n",
    "\n",
    "print(sqlite3.version)\n",
    "print(sqlite3.sqlite_version)"
   ]
  },
  {
   "attachments": {},
   "cell_type": "markdown",
   "metadata": {},
   "source": [
    "# 1. 기본 SQL 문법 연습"
   ]
  },
  {
   "attachments": {},
   "cell_type": "markdown",
   "metadata": {},
   "source": [
    "## DB 생성\n",
    "- PATH : C:\\Users\\admin\\AppData\\Local\\Programs\\Microsoft VS Code"
   ]
  },
  {
   "cell_type": "code",
   "execution_count": 2,
   "metadata": {},
   "outputs": [
    {
     "data": {
      "text/plain": [
       "<sqlite3.Cursor at 0x295d39e7f80>"
      ]
     },
     "execution_count": 2,
     "metadata": {},
     "output_type": "execute_result"
    }
   ],
   "source": [
    "# DB 생성 \n",
    "# isolation_level = None (auto commit)\n",
    "conn = sqlite3.connect('test.db', isolation_level=None)\n",
    "\n",
    "# 커서\n",
    "c = conn.cursor()\n",
    "\n",
    "# 테이블 생성(데이터 타입 = TEST, NUMERIC, INTEGER, REAL, BLOB 등)\n",
    "# 필드명(ex. name) -> 데이터 타입(ex. text) 순서로 입력 \n",
    "c.execute(\"CREATE TABLE IF NOT EXISTS TABLE1 \\\n",
    "    (id integer PRIMARY KEY, name text, birthday text)\")\n"
   ]
  },
  {
   "attachments": {},
   "cell_type": "markdown",
   "metadata": {},
   "source": [
    "## 데이터 삽입"
   ]
  },
  {
   "cell_type": "code",
   "execution_count": 3,
   "metadata": {},
   "outputs": [
    {
     "data": {
      "text/plain": [
       "<sqlite3.Cursor at 0x295d39e7f80>"
      ]
     },
     "execution_count": 3,
     "metadata": {},
     "output_type": "execute_result"
    }
   ],
   "source": [
    "# 데이터 삽입 1\n",
    "c.execute(\"INSERT INTO table1(id, name, birthday)\\\n",
    "    VALUES(?,?,?)\",\\\n",
    "        (2, 'KIM','1999-02-02'))"
   ]
  },
  {
   "cell_type": "code",
   "execution_count": 4,
   "metadata": {},
   "outputs": [
    {
     "data": {
      "text/plain": [
       "<sqlite3.Cursor at 0x295d39e7f80>"
      ]
     },
     "execution_count": 4,
     "metadata": {},
     "output_type": "execute_result"
    }
   ],
   "source": [
    "# 데이터 삽입 2\n",
    "c.execute(\"INSERT INTO table1 \\\n",
    "    VALUES(1, 'LEE', '1987-01-01')\")"
   ]
  },
  {
   "cell_type": "code",
   "execution_count": 5,
   "metadata": {},
   "outputs": [
    {
     "data": {
      "text/plain": [
       "<sqlite3.Cursor at 0x295d39e7f80>"
      ]
     },
     "execution_count": 5,
     "metadata": {},
     "output_type": "execute_result"
    }
   ],
   "source": [
    "# 데이터 삽입 3\n",
    "\n",
    "test_tuple  = (\n",
    "    (3, 'PARK', '1999-05-05'),\n",
    "    (4, 'KIM','1888-04-08'),\n",
    "    (5, 'HEY','1666-91-01')\n",
    ")\n",
    "\n",
    "c.executemany(\"INSERT INTO table1(id, name, birthday) VALUES(?,?,?)\", test_tuple)"
   ]
  },
  {
   "attachments": {},
   "cell_type": "markdown",
   "metadata": {},
   "source": [
    "## 데이터 불러오기"
   ]
  },
  {
   "cell_type": "code",
   "execution_count": 6,
   "metadata": {},
   "outputs": [
    {
     "name": "stdout",
     "output_type": "stream",
     "text": [
      "(1, 'LEE', '1987-01-01')\n",
      "(2, 'KIM', '1999-02-02')\n",
      "[(3, 'PARK', '1999-05-05'), (4, 'KIM', '1888-04-08'), (5, 'HEY', '1666-91-01')]\n"
     ]
    }
   ],
   "source": [
    "# 데이터 불러오기 1\n",
    "\n",
    "c.execute(\"SELECT * FROM table1\")\n",
    "print(c.fetchone())\n",
    "print(c.fetchone())\n",
    "print(c.fetchall())"
   ]
  },
  {
   "cell_type": "code",
   "execution_count": 7,
   "metadata": {},
   "outputs": [
    {
     "name": "stdout",
     "output_type": "stream",
     "text": [
      "[(1, 'LEE', '1987-01-01'), (2, 'KIM', '1999-02-02'), (3, 'PARK', '1999-05-05'), (4, 'KIM', '1888-04-08'), (5, 'HEY', '1666-91-01')]\n"
     ]
    }
   ],
   "source": [
    "# 데이터 불러오기 2\n",
    "\n",
    "c.execute(\"SELECT * FROM table1\")\n",
    "print(c.fetchall())"
   ]
  },
  {
   "cell_type": "code",
   "execution_count": 8,
   "metadata": {},
   "outputs": [
    {
     "name": "stdout",
     "output_type": "stream",
     "text": [
      "(1, 'LEE', '1987-01-01')\n",
      "(2, 'KIM', '1999-02-02')\n",
      "(3, 'PARK', '1999-05-05')\n",
      "(4, 'KIM', '1888-04-08')\n",
      "(5, 'HEY', '1666-91-01')\n"
     ]
    }
   ],
   "source": [
    "# 데이터 불러오기 3 - 반복문\n",
    "c.execute(\"SELECT * FROM table1\")\n",
    "for row in c.fetchall():\n",
    "    print(row)"
   ]
  },
  {
   "cell_type": "code",
   "execution_count": 9,
   "metadata": {},
   "outputs": [
    {
     "name": "stdout",
     "output_type": "stream",
     "text": [
      "(1, 'LEE', '1987-01-01')\n",
      "(2, 'KIM', '1999-02-02')\n",
      "(3, 'PARK', '1999-05-05')\n",
      "(4, 'KIM', '1888-04-08')\n",
      "(5, 'HEY', '1666-91-01')\n"
     ]
    }
   ],
   "source": [
    "# 데이터 불러오기 4 - 반복문\n",
    "for row in c.execute(\"SELECT * FROM table1 ORDER BY id ASC\"):\n",
    "    print(row)"
   ]
  },
  {
   "attachments": {},
   "cell_type": "markdown",
   "metadata": {},
   "source": [
    "## 데이터 조회하기 (filtering)\n",
    "- WHERE"
   ]
  },
  {
   "cell_type": "code",
   "execution_count": 10,
   "metadata": {},
   "outputs": [
    {
     "name": "stdout",
     "output_type": "stream",
     "text": [
      "param1 (1, 'LEE', '1987-01-01')\n"
     ]
    }
   ],
   "source": [
    "# 방법 1\n",
    "param1 = (1,)\n",
    "c.execute(\"SELECT * FROM table1 WHERE id = ?\", param1)\n",
    "print( 'param1',c.fetchone())"
   ]
  },
  {
   "cell_type": "code",
   "execution_count": 11,
   "metadata": {},
   "outputs": [
    {
     "name": "stdout",
     "output_type": "stream",
     "text": [
      "parpam2 [(1, 'LEE', '1987-01-01')]\n"
     ]
    }
   ],
   "source": [
    "# 방법 2\n",
    "param2 = 1\n",
    "c.execute(\"SELECT * FROM table1 WHERE id = '%s'\" % param2)\n",
    "print('parpam2',c.fetchall())"
   ]
  },
  {
   "cell_type": "code",
   "execution_count": 12,
   "metadata": {},
   "outputs": [
    {
     "name": "stdout",
     "output_type": "stream",
     "text": [
      "param3 [(1, 'LEE', '1987-01-01')]\n"
     ]
    }
   ],
   "source": [
    "# 방법 3\n",
    "c.execute(\"SELECT * FROM table1 WHERE id=:Id\", {\"Id\":1})\n",
    "print('param3', c.fetchall())"
   ]
  },
  {
   "cell_type": "code",
   "execution_count": 13,
   "metadata": {},
   "outputs": [
    {
     "name": "stdout",
     "output_type": "stream",
     "text": [
      "param4 [(1, 'LEE', '1987-01-01'), (4, 'KIM', '1888-04-08')]\n"
     ]
    }
   ],
   "source": [
    "# 방법 4\n",
    "param4 = (1, 4)\n",
    "c.execute(\"SELECT * FROM table1 WHERE id IN(?,?)\", param4)\n",
    "print('param4', c.fetchall())"
   ]
  },
  {
   "cell_type": "code",
   "execution_count": 15,
   "metadata": {},
   "outputs": [
    {
     "name": "stdout",
     "output_type": "stream",
     "text": [
      "param5 [(1, 'LEE', '1987-01-01'), (4, 'KIM', '1888-04-08')]\n"
     ]
    }
   ],
   "source": [
    "# 방법 5\n",
    "c.execute(\"SELECT * FROM table1 WHERE id In(%d, %d)\" % (1,4))\n",
    "print('param5', c.fetchall())"
   ]
  },
  {
   "cell_type": "code",
   "execution_count": 16,
   "metadata": {},
   "outputs": [
    {
     "name": "stdout",
     "output_type": "stream",
     "text": [
      "param6 [(1, 'LEE', '1987-01-01'), (4, 'KIM', '1888-04-08')]\n"
     ]
    }
   ],
   "source": [
    "# 방법 6\n",
    "c.execute(\"SELECT * FROM table1 WHERE id=:id1 OR id=:id2\", {\"id1\":1, \"id2\":4})\n",
    "print('param6', c.fetchall())"
   ]
  },
  {
   "attachments": {},
   "cell_type": "markdown",
   "metadata": {},
   "source": [
    "## 데이터 수정 \n",
    "- UPDATE, SET"
   ]
  },
  {
   "cell_type": "code",
   "execution_count": 91,
   "metadata": {},
   "outputs": [
    {
     "data": {
      "text/plain": [
       "<sqlite3.Cursor at 0x256a2e85880>"
      ]
     },
     "execution_count": 91,
     "metadata": {},
     "output_type": "execute_result"
    }
   ],
   "source": [
    "# 방법 1\n",
    "c.execute(\"UPDATE table1 SET name=? WHERE id=?\", (\"NEW1\", 1))\n"
   ]
  },
  {
   "cell_type": "code",
   "execution_count": 92,
   "metadata": {},
   "outputs": [
    {
     "data": {
      "text/plain": [
       "<sqlite3.Cursor at 0x256a2e85880>"
      ]
     },
     "execution_count": 92,
     "metadata": {},
     "output_type": "execute_result"
    }
   ],
   "source": [
    "# 방법 2\n",
    "c.execute(\"UPDATE table1 SET name=:name WHERE id=:id\", {\"name\":\"NEW2\", \"id\":3})"
   ]
  },
  {
   "cell_type": "code",
   "execution_count": 93,
   "metadata": {},
   "outputs": [
    {
     "data": {
      "text/plain": [
       "<sqlite3.Cursor at 0x256a2e85880>"
      ]
     },
     "execution_count": 93,
     "metadata": {},
     "output_type": "execute_result"
    }
   ],
   "source": [
    "# 방법 3\n",
    "c.execute(\"UPDATE table1 SET name ='%s' WHERE id = '%s'\" % ('NEW3', 5))"
   ]
  },
  {
   "cell_type": "code",
   "execution_count": 94,
   "metadata": {},
   "outputs": [
    {
     "data": {
      "text/plain": [
       "[(1, 'NEW1', '1987-01-01'),\n",
       " (2, 'KIM', '1999-02-02'),\n",
       " (3, 'NEW2', '1999-05-05'),\n",
       " (4, 'KIM', '1888-04-08'),\n",
       " (5, 'NEW3', '1666-91-01')]"
      ]
     },
     "execution_count": 94,
     "metadata": {},
     "output_type": "execute_result"
    }
   ],
   "source": [
    "# 확인용\n",
    "c.execute(\"SELECT * FROM table1\")\n",
    "c.fetchall()"
   ]
  },
  {
   "attachments": {},
   "cell_type": "markdown",
   "metadata": {},
   "source": [
    "## 데이터 삭제 \n",
    "- WHERE, DELET"
   ]
  },
  {
   "cell_type": "code",
   "execution_count": 32,
   "metadata": {},
   "outputs": [
    {
     "data": {
      "text/plain": [
       "<sqlite3.Cursor at 0x256a2dbd880>"
      ]
     },
     "execution_count": 32,
     "metadata": {},
     "output_type": "execute_result"
    }
   ],
   "source": [
    "# 방법 1\n",
    "c.execute(\"DELETE FROM table1 WHERE id = ?\", (1,))"
   ]
  },
  {
   "cell_type": "code",
   "execution_count": 35,
   "metadata": {},
   "outputs": [
    {
     "data": {
      "text/plain": [
       "<sqlite3.Cursor at 0x256a2dbd880>"
      ]
     },
     "execution_count": 35,
     "metadata": {},
     "output_type": "execute_result"
    }
   ],
   "source": [
    "# 방법 2\n",
    "c.execute(\"DELETE FROM table1 WHERE id=:id\", {'id':3})"
   ]
  },
  {
   "cell_type": "code",
   "execution_count": 37,
   "metadata": {},
   "outputs": [
    {
     "data": {
      "text/plain": [
       "<sqlite3.Cursor at 0x256a2dbd880>"
      ]
     },
     "execution_count": 37,
     "metadata": {},
     "output_type": "execute_result"
    }
   ],
   "source": [
    "# 방법 3\n",
    "c.execute(\"DELETE FROM table1 WHERE id = '%s'\" % 5)"
   ]
  },
  {
   "cell_type": "code",
   "execution_count": 38,
   "metadata": {},
   "outputs": [
    {
     "name": "stdout",
     "output_type": "stream",
     "text": [
      "(2, 'KIM', '1999-02-02')\n",
      "(4, 'KIM', '1888-04-08')\n"
     ]
    }
   ],
   "source": [
    "# 확인용 \n",
    "\n",
    "for row in c.execute('SELECT * FROM table1'):\n",
    "    print(row)"
   ]
  },
  {
   "cell_type": "code",
   "execution_count": 40,
   "metadata": {},
   "outputs": [
    {
     "name": "stdout",
     "output_type": "stream",
     "text": [
      "<sqlite3.Cursor object at 0x00000256A2E87500>\n"
     ]
    }
   ],
   "source": [
    "# 전체 다 지우기 \n",
    "print(conn.execute(\"DELETE FROM table1\"))"
   ]
  },
  {
   "cell_type": "code",
   "execution_count": 41,
   "metadata": {},
   "outputs": [],
   "source": [
    "for row in c.execute('SELECT * FROM table1'):\n",
    "    print(row)"
   ]
  },
  {
   "attachments": {},
   "cell_type": "markdown",
   "metadata": {},
   "source": [
    "## DB 백업\n",
    "-dump"
   ]
  },
  {
   "cell_type": "code",
   "execution_count": 14,
   "metadata": {},
   "outputs": [
    {
     "name": "stdout",
     "output_type": "stream",
     "text": [
      "Completed.\n"
     ]
    }
   ],
   "source": [
    "with conn:\n",
    "    with open('dump.sql', 'w') as f:\n",
    "        for line in conn.iterdump():\n",
    "            f.write('%s\\n' % line)\n",
    "        print(\"Completed.\")"
   ]
  },
  {
   "attachments": {},
   "cell_type": "markdown",
   "metadata": {},
   "source": [
    "## 연결 해제\n",
    "- close하면 db 백업이 안 된다."
   ]
  },
  {
   "cell_type": "code",
   "execution_count": 15,
   "metadata": {},
   "outputs": [],
   "source": [
    "conn.close()"
   ]
  },
  {
   "attachments": {},
   "cell_type": "markdown",
   "metadata": {},
   "source": [
    "# 2. FLASK + SQLite3\n",
    "- image file"
   ]
  },
  {
   "attachments": {},
   "cell_type": "markdown",
   "metadata": {},
   "source": [
    "## 기초 1\n",
    "- rb, wb"
   ]
  },
  {
   "cell_type": "code",
   "execution_count": 12,
   "metadata": {},
   "outputs": [],
   "source": [
    "# 이미지 파일 바이너리형태로 읽기, 쓰기\n",
    "with open('1.png', 'rb') as f:\n",
    "    m = f.read()\n",
    "    \n",
    "with open('received.png','wb') as q:\n",
    "    q.write(m)"
   ]
  },
  {
   "attachments": {},
   "cell_type": "markdown",
   "metadata": {},
   "source": [
    "## 기초 2 \n",
    "1) make a connection\n",
    "2) make a cursor\n",
    "3) create tables\n",
    "4) insert data\n",
    "5) commit"
   ]
  },
  {
   "cell_type": "code",
   "execution_count": 4,
   "metadata": {},
   "outputs": [],
   "source": [
    "import sqlite3"
   ]
  },
  {
   "attachments": {},
   "cell_type": "markdown",
   "metadata": {},
   "source": [
    "### 1) DB and Table 만들기"
   ]
  },
  {
   "cell_type": "code",
   "execution_count": 14,
   "metadata": {},
   "outputs": [],
   "source": [
    "# DB 생성 \n",
    "# isolation_level = None (auto commit)\n",
    "conn = sqlite3.connect('image.db', isolation_level=None)\n",
    "\n",
    "# 커서\n",
    "cursor = conn.cursor()\n",
    "\n",
    "# 테이블 생성(데이터 타입 = TEST, NUMERIC, INTEGER, REAL, BLOB 등)\n",
    "# 필드명(ex. name) -> 데이터 타입(ex. text) 순서로 입력 \n",
    "cursor.execute(\"\"\"\n",
    "CREATE TABLE IF NOT EXISTS my_table (id INTEGER PRIMARY KEY AUTOINCREMENT NOT NULL,\n",
    "name TEXT,\n",
    "data BLOB)\"\"\")\n",
    "\n",
    "conn.commit()\n",
    "cursor.close()\n",
    "conn.close()"
   ]
  },
  {
   "attachments": {},
   "cell_type": "markdown",
   "metadata": {},
   "source": [
    "### 2) image insert"
   ]
  },
  {
   "cell_type": "code",
   "execution_count": 15,
   "metadata": {},
   "outputs": [],
   "source": [
    "conn = sqlite3.connect('image.db', isolation_level=None)\n",
    "\n",
    "# 커서\n",
    "cursor = conn.cursor()\n",
    "\n",
    "name = 'bowon'\n",
    "with open('1.png', 'rb') as f:\n",
    "    data = f.read()\n",
    "    \n",
    "cursor.execute(\"\"\"\n",
    "INSERT INTO my_table (name, data) VALUES (?,?)          \n",
    "\"\"\", (name, data)\n",
    ")\n",
    "\n",
    "conn.commit()\n",
    "cursor.close()\n",
    "conn.close()"
   ]
  },
  {
   "attachments": {},
   "cell_type": "markdown",
   "metadata": {},
   "source": [
    "### 3) image reload"
   ]
  },
  {
   "cell_type": "code",
   "execution_count": 21,
   "metadata": {},
   "outputs": [],
   "source": [
    "conn = sqlite3.connect('image.db', isolation_level=None)\n",
    "\n",
    "# 커서\n",
    "cursor = conn.cursor()\n",
    "\n",
    "m = cursor.execute(\"\"\"\n",
    "SELECT * FROM my_table\n",
    "               \"\"\")\n",
    "\n",
    "for x in m:\n",
    "    #print(x[0])   # x[0] = name, x[1] = image\n",
    "    rec_data = x[1]\n",
    "\n",
    "with open('bowon.image.png', 'wb') as f:\n",
    "    f.write(rec_data)\n",
    "\n",
    "conn.commit()\n",
    "cursor.close()\n",
    "conn.close()"
   ]
  },
  {
   "cell_type": "code",
   "execution_count": null,
   "metadata": {},
   "outputs": [],
   "source": [
    "# 예문\n",
    "# cursor.execute(\"\"\"\n",
    "CREATE TABLE IF NOT EXISTS my_table (name TEXT, data BLOB)\n",
    "\"\"\")"
   ]
  },
  {
   "cell_type": "code",
   "execution_count": 10,
   "metadata": {},
   "outputs": [
    {
     "data": {
      "text/plain": [
       "<sqlite3.Cursor at 0x25aefb5c7a0>"
      ]
     },
     "execution_count": 10,
     "metadata": {},
     "output_type": "execute_result"
    }
   ],
   "source": [
    "c.execute(\"INSERT INTO table1(email, name)\\\n",
    "    VALUES(?,?)\",\\\n",
    "        ('hello@naver.com', 'kim'))"
   ]
  },
  {
   "cell_type": "code",
   "execution_count": 11,
   "metadata": {},
   "outputs": [],
   "source": [
    "c.close()"
   ]
  }
 ],
 "metadata": {
  "kernelspec": {
   "display_name": "base",
   "language": "python",
   "name": "python3"
  },
  "language_info": {
   "codemirror_mode": {
    "name": "ipython",
    "version": 3
   },
   "file_extension": ".py",
   "mimetype": "text/x-python",
   "name": "python",
   "nbconvert_exporter": "python",
   "pygments_lexer": "ipython3",
   "version": "3.9.13"
  },
  "orig_nbformat": 4,
  "vscode": {
   "interpreter": {
    "hash": "e4cce46d6be9934fbd27f9ca0432556941ea5bdf741d4f4d64c6cd7f8dfa8fba"
   }
  }
 },
 "nbformat": 4,
 "nbformat_minor": 2
}
